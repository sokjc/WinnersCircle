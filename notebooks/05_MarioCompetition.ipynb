{
 "cells": [
  {
   "cell_type": "markdown",
   "metadata": {},
   "source": [
    "<img align=\"left\" src=\"https://raw.githubusercontent.com/sokjc/WinnersCircle/master/assets/WinnersCircle-small-icononly.png\" width=200 /> <img align=\"left\" src=\"https://media.giphy.com/media/Lp2DXaHwco9FK/giphy.gif\" width=100/>\n",
    "\n",
    "## Winner's Circle: RL Workshop\n",
    "\n",
    "# Part 05: Super Mario Bros Competition\n",
    "\n",
    "What's a circle of winners without a competition? Let's practice what you learned from this workshop on a new and harder game: Super Mario Brothers. You will need to adapt our code from the workshop and pick your training strategy to train a model. More than likely your model will not finish running before the end of our session, so you should record a video of your model's last run. Your final submission should be a .mp4 of a test run of your model.\n",
    "\n",
    "## Prizes\n",
    "1. AWS DeepLens + $100 Paperspace Budget\n",
    "2. AWS DeepLens\n",
    "3. Google AIY Computer Vision Kit\n",
    "\n",
    "Feel free to work in teams. Your team has to sort out how to share the prize though. "
   ]
  },
  {
   "cell_type": "code",
   "execution_count": null,
   "metadata": {},
   "outputs": [],
   "source": [
    "from IPython import display\n",
    "import matplotlib\n",
    "import matplotlib.pyplot as plt\n",
    "%matplotlib inline"
   ]
  },
  {
   "cell_type": "markdown",
   "metadata": {},
   "source": [
    "## Mario Environment\n",
    "\n",
    "You will need to review the documentation for the mario environment [here](https://github.com/Kautenja/gym-super-mario-bros)."
   ]
  },
  {
   "cell_type": "code",
   "execution_count": null,
   "metadata": {},
   "outputs": [],
   "source": [
    "from nes_py.wrappers import BinarySpaceToDiscreteSpaceEnv\n",
    "import gym_super_mario_bros\n",
    "from gym_super_mario_bros.actions import SIMPLE_MOVEMENT\n",
    "env = gym_super_mario_bros.make('SuperMarioBros-v0')\n",
    "env = BinarySpaceToDiscreteSpaceEnv(env, SIMPLE_MOVEMENT)\n",
    "img = plt.imshow(env.render(mode='rgb_array'))\n",
    "\n",
    "done = True\n",
    "for step in range(5000):\n",
    "    if done:\n",
    "        state = env.reset()\n",
    "    state, reward, done, info = env.step(env.action_space.sample())\n",
    "    img.set_data(env.render(mode='rgb_array')) # just update the data\n",
    "    display.display(plt.gcf())\n",
    "    display.clear_output(wait=True)\n",
    "\n",
    "env.close()"
   ]
  }
 ],
 "metadata": {
  "kernelspec": {
   "display_name": "MarioRL",
   "language": "python",
   "name": "mariorl"
  },
  "language_info": {
   "codemirror_mode": {
    "name": "ipython",
    "version": 3
   },
   "file_extension": ".py",
   "mimetype": "text/x-python",
   "name": "python",
   "nbconvert_exporter": "python",
   "pygments_lexer": "ipython3",
   "version": "3.7.2"
  }
 },
 "nbformat": 4,
 "nbformat_minor": 2
}
