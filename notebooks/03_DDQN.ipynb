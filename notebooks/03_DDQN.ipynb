{
 "cells": [
  {
   "cell_type": "markdown",
   "metadata": {},
   "source": [
    "<img align=\"left\" src=\"https://raw.githubusercontent.com/sokjc/WinnersCircle/master/assets/WinnersCircle-small-icononly.png\" width=200 />\n",
    "\n",
    "## Winner's Circle: RL Workshop\n",
    "\n",
    "# Part 03: Deep Q-Learning\n",
    "Inspired by the Deep Mind Paper [\"Playing Atari with Deep Reinforcement Learning\"](https://www.cs.toronto.edu/~vmnih/docs/dqn.pdf), this section will introduce a popular strategy for RL and layer a complication with the Double Deep Q-Learning (DDQN). Most of the code and instructional material is directly adapted from Greg Surma's medium series on Solving Games with AI. \n",
    "\n",
    "The goal of this session will be to introduce you to an algorithm that can successfuly play any game by pixels alone. \n",
    "\n",
    "DQN is a RL technique that is aimed at choosing the best action for given circumstances (observation). Each possible action for each possible observation has its Q value, where 'Q' stands for a quality of a given move. But how do we end up with accurate Q values? Enter deep neural networks.\n",
    "\n",
    "For each state experienced by the agent, the algorithm remebers it. The algo then replays the experience by sampling experiences from memory and updating is Q value."
   ]
  },
  {
   "cell_type": "markdown",
   "metadata": {},
   "source": [
    "## Data Preparation\n",
    "\n",
    "Since all Atari games have pixels, we can use them to generalize a model across games instead of creating a model speficic to each game world. \n",
    "\n",
    "### Observations\n",
    "\n",
    "Consider one frame:\n",
    "\n",
    "<img src=\"https://cdn-images-1.medium.com/max/1600/1*uQn5fCSJ4u4F0dXyhu2bpw.png\" width=200px />\n",
    "\n",
    "**Group Discussion**\n",
    "\n",
    "* Is one frame enough for our to predict what to do? \n",
    "* Or do we need more information?\n",
    "\n",
    "Now consider four frames: \n",
    "\n",
    "<img src=\"https://cdn-images-1.medium.com/max/1600/1*r_zU8YRUSSr56E0Wr9ZQcQ.png\" width=800px />\n",
    "\n",
    "**Group Discussion**\n",
    "\n",
    "* Why might four frames be better?\n",
    "* What are the draw backs of using four frames as single observation?\n",
    "\n",
    "### Resizing the Observations\n",
    "Four frames of 210x160 RGB arrays that Attari outputs is a lot of information for our model to handle. Let's do two preprocessing steps: change the images to greyscale and scale downscale the size of over all image. Our final array will be 84x84x4 - much easier to handle.\n",
    "\n",
    "<img src=\"https://cdn-images-1.medium.com/max/1600/1*ChDEq-Leap9J5T5h6nYBzg.png\" width=800px />"
   ]
  },
  {
   "cell_type": "markdown",
   "metadata": {},
   "source": [
    "## Convolutional Neural Network\n",
    "\n",
    "We will be using the architecture from the Deep Mind Paper: \n",
    "\n",
    "<img src=\"https://cdn-images-1.medium.com/max/1600/1*3ZgGbUpEyAZb9POWijRq4Q.png\" />"
   ]
  },
  {
   "cell_type": "code",
   "execution_count": 1,
   "metadata": {},
   "outputs": [
    {
     "name": "stdout",
     "output_type": "stream",
     "text": [
      "/Users/jsokoll/Documents/WinnersCircle\n"
     ]
    }
   ],
   "source": [
    "%cd /notebooks/WinnersCircle"
   ]
  },
  {
   "cell_type": "code",
   "execution_count": 2,
   "metadata": {},
   "outputs": [
    {
     "name": "stderr",
     "output_type": "stream",
     "text": [
      "Using TensorFlow backend.\n"
     ]
    }
   ],
   "source": [
    "import gym\n",
    "import numpy as np\n",
    "from game_models.ddqn import DDQNTrainer, DDQNSolver\n",
    "from game_models.ge import GETrainer, GESolver\n",
    "from gym_wrappers import MainGymWrapper\n",
    "\n",
    "# Plotting\n",
    "from IPython import display\n",
    "import matplotlib\n",
    "import matplotlib.pyplot as plt\n",
    "%matplotlib inline"
   ]
  },
  {
   "cell_type": "code",
   "execution_count": 3,
   "metadata": {},
   "outputs": [],
   "source": [
    "FRAMES_IN_OBSERVATION = 4\n",
    "FRAME_SIZE = 84\n",
    "INPUT_SHAPE = (FRAMES_IN_OBSERVATION, FRAME_SIZE, FRAME_SIZE)"
   ]
  },
  {
   "cell_type": "code",
   "execution_count": 4,
   "metadata": {},
   "outputs": [],
   "source": [
    "class Atari: \n",
    "    \n",
    "    def __init__(self, game_name, game_mode, render=False, total_step_limit=500000, total_run_limit=None, clip=True):\n",
    "\n",
    "        env_name = game_name + \"Deterministic-v4\" #Handles frame skippings (4) at every iteration\n",
    "        env = MainGymWrapper.wrap(gym.make(env_name))\n",
    "        self._main_loop(self._game_model(game_mode, game_name, env.action_space.n), env, render, total_step_limit, total_run_limit, clip)\n",
    "        \n",
    "    def _main_loop(self, game_model, env, render, total_step_limit, total_run_limit, clip):\n",
    "        if isinstance(game_model, GETrainer):\n",
    "            game_model.genetic_evolution(env)\n",
    "\n",
    "        run = 0\n",
    "        total_step = 0\n",
    "        while True:\n",
    "            if total_run_limit is not None and run >= total_run_limit:\n",
    "                print(\"Reached total run limit of: \" + str(total_run_limit))\n",
    "                exit(0)\n",
    "\n",
    "            run += 1\n",
    "            current_state = env.reset()\n",
    "            \n",
    "            if render:\n",
    "                img = plt.imshow(env.render(mode='rgb_array'))\n",
    "                \n",
    "            step = 0\n",
    "            score = 0\n",
    "            while True:\n",
    "                if total_step >= total_step_limit:\n",
    "                    print(\"Reached total step limit of: \" + str(total_step_limit))\n",
    "                    exit(0)\n",
    "                total_step += 1\n",
    "                step += 1\n",
    "\n",
    "                if render:\n",
    "                    img.set_data(env.render(mode='rgb_array')) # just update the data\n",
    "                    display.display(plt.gcf())\n",
    "                    display.clear_output(wait=True)\n",
    "\n",
    "                action = game_model.move(current_state)\n",
    "                next_state, reward, terminal, info = env.step(action)\n",
    "                if clip:\n",
    "                    np.sign(reward)\n",
    "                score += reward\n",
    "                game_model.remember(current_state, action, reward, next_state, terminal)\n",
    "                current_state = next_state\n",
    "\n",
    "                game_model.step_update(total_step)\n",
    "\n",
    "                if terminal:\n",
    "                    game_model.save_run(score, step, run)\n",
    "                    break\n",
    "        \n",
    "    def _game_model(self, game_mode,game_name, action_space):\n",
    "        if game_mode == \"ddqn_training\":\n",
    "            return DDQNTrainer(game_name, INPUT_SHAPE, action_space)\n",
    "        elif game_mode == \"ddqn_testing\":\n",
    "            return DDQNSolver(game_name, INPUT_SHAPE, action_space)"
   ]
  },
  {
   "cell_type": "code",
   "execution_count": null,
   "metadata": {},
   "outputs": [
    {
     "data": {
      "image/png": "[encoded data removed]",
      "text/plain": [
       "<Figure size 432x288 with 1 Axes>"
      ]
     },
     "metadata": {},
     "output_type": "display_data"
    }
   ],
   "source": [
    "Atari('SpaceInvaders', 'ddqn_training', render=True)"
   ]
  },
  {
   "cell_type": "markdown",
   "metadata": {},
   "source": [
    "## References\n",
    "\n",
    "* Surma, Greg. [*__Cartpole - Introduction to Reinforcement Learning (DQN - Deep Q-Learning): Solving OpenAI Gym Environment__*](https://towardsdatascience.com/cartpole-introduction-to-reinforcement-learning-ed0eb5b58288). 26 September, 2018."
   ]
  }
 ],
 "metadata": {
  "kernelspec": {
   "display_name": "MarioRL",
   "language": "python",
   "name": "mariorl"
  },
  "language_info": {
   "codemirror_mode": {
    "name": "ipython",
    "version": 3
   },
   "file_extension": ".py",
   "mimetype": "text/x-python",
   "name": "python",
   "nbconvert_exporter": "python",
   "pygments_lexer": "ipython3",
   "version": "3.7.2"
  }
 },
 "nbformat": 4,
 "nbformat_minor": 2
}
