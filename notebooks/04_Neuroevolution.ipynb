{
 "cells": [
  {
   "cell_type": "markdown",
   "metadata": {},
   "source": [
    "<img align=\"left\" src=\"https://raw.githubusercontent.com/sokjc/WinnersCircle/master/assets/WinnersCircle-small-icononly.png\" width=200 />\n",
    "\n",
    "## Winner's Circle: RL Workshop\n",
    "\n",
    "# Part 04: Deep Neuroevolution\n",
    "\n",
    "Yeah, we're going to get neural networs to evolve? Dope right?\n",
    "\n",
    ">Neuroevolution, or neuro-evolution, is a form of artificial intelligence that uses evolutionary algorithms to generate artificial neural networks (ANN), parameters, topology and rules.[1] It is most commonly applied in artificial life, general game playing[2] and evolutionary robotics. The main benefit is that neuroevolution can be applied more widely than supervised learning algorithms, which require a syllabus of correct input-output pairs. In contrast, neuroevolution requires only a measure of a network’s performance at a task.\n",
    "\n",
    "Algorithm Steps\n",
    "\n",
    "1. Create a population of CNN model weights called a generation.\n",
    "2. Evaluate the performance of a generation of model weights in our environment. \n",
    "3. Pick the \"fittest\" model weights and cross breed them. Charles Darwin - right here. And yes, we have mutants as well. \n",
    "4. Repeat 1-3 until some kind of stopping criteria is met.\n",
    "\n",
    "**Exercise**\n",
    "\n",
    "Adapt Our Atari Class from the DQN notebook to run our GE algorithm. They will play nicely together. :) Try training a GE algorithm on the same game as you did for DDQN."
   ]
  },
  {
   "cell_type": "code",
   "execution_count": null,
   "metadata": {},
   "outputs": [],
   "source": []
  }
 ],
 "metadata": {
  "kernelspec": {
   "display_name": "MarioRL",
   "language": "python",
   "name": "mariorl"
  },
  "language_info": {
   "codemirror_mode": {
    "name": "ipython",
    "version": 3
   },
   "file_extension": ".py",
   "mimetype": "text/x-python",
   "name": "python",
   "nbconvert_exporter": "python",
   "pygments_lexer": "ipython3",
   "version": "3.7.2"
  }
 },
 "nbformat": 4,
 "nbformat_minor": 2
}
